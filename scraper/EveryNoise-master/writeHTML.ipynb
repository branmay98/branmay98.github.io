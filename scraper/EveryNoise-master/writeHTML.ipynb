{
 "cells": [
  {
   "cell_type": "code",
   "execution_count": 1,
   "metadata": {
    "collapsed": true
   },
   "outputs": [],
   "source": [
    "import cPickle as pickle\n",
    "import string\n",
    "import os"
   ]
  },
  {
   "cell_type": "code",
   "execution_count": 2,
   "metadata": {
    "collapsed": true
   },
   "outputs": [],
   "source": [
    "## load variables from previous scripts\n",
    "with open('genreList.p', 'rb') as fp:\n",
    "    genreList = pickle.load(fp)\n",
    "    \n",
    "with open('artistList.p', 'rb') as fp:\n",
    "    artistList = pickle.load(fp)\n",
    "    \n",
    "with open('artists.p', 'rb') as fp:\n",
    "    artists = pickle.load(fp)\n",
    "    \n",
    "with open('genres.p', 'rb') as fp:\n",
    "    genres = pickle.load(fp)"
   ]
  },
  {
   "cell_type": "code",
   "execution_count": 3,
   "metadata": {
    "collapsed": false
   },
   "outputs": [],
   "source": [
    "## Make Genre Homepage\n",
    "file = open(\"HTML/genres.html\", \"w\")\n",
    "\n",
    "lettersUp  = string.letters[:26]\n",
    "file.write('<!DOCTYPE html><html><head><link rel=\"stylesheet\" type=\"text/css\" href=\"main.css\">\\n')\n",
    "file.write('<script src=\"jquery-1.12.0.min.js\"></script>\\n')\n",
    "file.write('<link href=\"font-awesome-4.5.0/css/font-awesome.min.css\" rel=\"stylesheet\" type=\"text/css\">\\n')\n",
    "file.write('<script>$(document).ready(function(){')\n",
    "for l in lettersUp:\n",
    "    file.write('$(\"#' + l + '\").click(function(){$(\"#' + l + 'list\").slideToggle(\"slow\");});\\n')\n",
    "file.write('});</script>')\n",
    "file.write('</head><body><h1><a href=\"genres.html\"<i class=\"fa fa-home\"></i></a> Genres</h1>\\n')\n",
    "file.write('<p>Click on a letter to show the genres</p>\\n')\n",
    "\n",
    "for l in lettersUp:\n",
    "    file.write('<div id=\"' + l + '\">' + l + '</div>')\n",
    "    file.write('<div class=\"letterHolder\" id=\"' + l + 'list\">\\n')\n",
    "\n",
    "    lGenres = [elem for elem in genres if elem[0] == l.lower()]\n",
    "    for g in lGenres:\n",
    "        file.write('<a href=\"genre-' + str.replace(g,\" \", \"\") + '.html\">' + g +'</a><br>\\n')\n",
    "    file.write('</div>\\n')\n",
    "file.write('</body></html>')\n",
    "file.close()"
   ]
  },
  {
   "cell_type": "code",
   "execution_count": 4,
   "metadata": {
    "collapsed": false
   },
   "outputs": [],
   "source": [
    "## Make page for each genre and populate with artists\n",
    "\n",
    "for genre in genres:\n",
    "    gArtists = genreList[genre]\n",
    "    \n",
    "    file = open('HTML/genre-' + str.replace(genre,\" \", \"\") + '.html', \"w\") # make page\n",
    "    file.write('<!DOCTYPE html><html><head><link rel=\"stylesheet\" type=\"text/css\" href=\"main.css\">\\n')\n",
    "    file.write('<script src=\"jquery-1.12.0.min.js\"></script>\\n')\n",
    "    file.write('<link href=\"font-awesome-4.5.0/css/font-awesome.min.css\" rel=\"stylesheet\" type=\"text/css\">\\n')\n",
    "    file.write('<script>$(document).ready(function(){')\n",
    "    for i in range(0,len(gArtists)):\n",
    "        file.write('$(\"#A' + str(i) + '\").click(function(){$(\"#A' + str(i) + 'list\").slideToggle(\"slow\");});\\n')\n",
    "    file.write('});</script>')\n",
    "    file.write('</head><body><h1><a href=\"genres.html\"<i class=\"fa fa-home\"></i></a> ' + genre + '</h1>\\n')\n",
    "    file.write('<p>Click on an artist to show its genres</p>\\n')\n",
    "\n",
    "    for i in range(0,len(gArtists)):\n",
    "        file.write('<div id=\"A' + str(i) + '\">' + gArtists[i] + '</div>')\n",
    "        file.write('<div class=\"artists\" id=\"A' + str(i) + 'list\">\\n')\n",
    "\n",
    "        aGenres = artistList[gArtists[i]]\n",
    "        for g in aGenres:\n",
    "            file.write('<a href=\"genre-' + str.replace(g,\" \", \"\") + '.html\">' + g +'</a><br>\\n')\n",
    "        file.write('</div>\\n')\n",
    "    file.write('</body></html>')\n",
    "    file.close()"
   ]
  }
 ],
 "metadata": {
  "kernelspec": {
   "display_name": "Python 2",
   "language": "python",
   "name": "python2"
  },
  "language_info": {
   "codemirror_mode": {
    "name": "ipython",
    "version": 2
   },
   "file_extension": ".py",
   "mimetype": "text/x-python",
   "name": "python",
   "nbconvert_exporter": "python",
   "pygments_lexer": "ipython2",
   "version": "2.7.10"
  }
 },
 "nbformat": 4,
 "nbformat_minor": 0
}
