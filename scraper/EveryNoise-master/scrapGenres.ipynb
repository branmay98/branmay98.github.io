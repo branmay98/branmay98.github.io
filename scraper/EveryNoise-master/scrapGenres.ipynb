{
 "cells": [
  {
   "cell_type": "code",
   "execution_count": 3,
   "metadata": {
    "collapsed": true
   },
   "outputs": [],
   "source": [
    "from bs4 import BeautifulSoup\n",
    "import requests, sys\n",
    "from collections import defaultdict\n",
    "import pickle"
   ]
  },
  {
   "cell_type": "code",
   "execution_count": 5,
   "metadata": {
    "collapsed": false
   },
   "outputs": [],
   "source": [
    "## Request HTML\n",
    "\n",
    "r = requests.get(\"http://everynoise.com/engenremap.html\")"
   ]
  },
  {
   "cell_type": "code",
   "execution_count": 11,
   "metadata": {
    "collapsed": false
   },
   "outputs": [
    {
     "output_type": "error",
     "ename": "TypeError",
     "evalue": "descriptor 'strip' requires a 'str' object but received a 'bytes'",
     "traceback": [
      "\u001b[0;31m---------------------------------------------------------------------------\u001b[0m",
      "\u001b[0;31mTypeError\u001b[0m                                 Traceback (most recent call last)",
      "\u001b[0;32m<ipython-input-11-8cd8316ad600>\u001b[0m in \u001b[0;36m<module>\u001b[0;34m\u001b[0m\n\u001b[1;32m      9\u001b[0m     \u001b[0msys\u001b[0m\u001b[0;34m.\u001b[0m\u001b[0mstdout\u001b[0m\u001b[0;34m.\u001b[0m\u001b[0mflush\u001b[0m\u001b[0;34m(\u001b[0m\u001b[0;34m)\u001b[0m\u001b[0;34m\u001b[0m\u001b[0;34m\u001b[0m\u001b[0m\n\u001b[1;32m     10\u001b[0m \u001b[0;34m\u001b[0m\u001b[0m\n\u001b[0;32m---> 11\u001b[0;31m     \u001b[0mgenre\u001b[0m \u001b[0;34m=\u001b[0m \u001b[0mstr\u001b[0m\u001b[0;34m.\u001b[0m\u001b[0mstrip\u001b[0m\u001b[0;34m(\u001b[0m\u001b[0mgenreDiv\u001b[0m\u001b[0;34m.\u001b[0m\u001b[0mgetText\u001b[0m\u001b[0;34m(\u001b[0m\u001b[0;34m)\u001b[0m\u001b[0;34m.\u001b[0m\u001b[0mencode\u001b[0m\u001b[0;34m(\u001b[0m\u001b[0;34m'ascii'\u001b[0m\u001b[0;34m,\u001b[0m\u001b[0;34m'ignore'\u001b[0m\u001b[0;34m)\u001b[0m\u001b[0;34m)\u001b[0m\u001b[0;34m\u001b[0m\u001b[0;34m\u001b[0m\u001b[0m\n\u001b[0m\u001b[1;32m     12\u001b[0m     \u001b[0mgenrePage\u001b[0m \u001b[0;34m=\u001b[0m \u001b[0;34m\"http://everynoise.com/engenremap-\"\u001b[0m \u001b[0;34m+\u001b[0m \u001b[0mstr\u001b[0m\u001b[0;34m.\u001b[0m\u001b[0mreplace\u001b[0m\u001b[0;34m(\u001b[0m\u001b[0mgenre\u001b[0m\u001b[0;34m,\u001b[0m\u001b[0;34m\" \"\u001b[0m\u001b[0;34m,\u001b[0m \u001b[0;34m\"\"\u001b[0m\u001b[0;34m)\u001b[0m \u001b[0;34m+\u001b[0m \u001b[0;34m\".html\"\u001b[0m\u001b[0;34m\u001b[0m\u001b[0;34m\u001b[0m\u001b[0m\n\u001b[1;32m     13\u001b[0m \u001b[0;34m\u001b[0m\u001b[0m\n",
      "\u001b[0;31mTypeError\u001b[0m: descriptor 'strip' requires a 'str' object but received a 'bytes'"
     ]
    }
   ],
   "source": [
    "## Parse Genre HTML Elements\n",
    "soup = BeautifulSoup(r.text,\"html.parser\")\n",
    "allGenreDivs = soup.find_all(\"div\", \"genre scanme\")\n",
    "\n",
    "## Cycle through genres and go to that genres page\n",
    "genreList = defaultdict(list)\n",
    "genreCnt = 0\n",
    "for genreDiv in allGenreDivs:\n",
    "    print(genreDiv)\n",
    "    print(\"Pulling genre #\" + str(genreCnt))\n",
    "    sys.stdout.flush()\n",
    "        \n",
    "    genre = str.strip(genreDiv.getText().encode('ascii','ignore'))\n",
    "    genrePage = \"http://everynoise.com/engenremap-\" + str.replace(genre,\" \", \"\") + \".html\"\n",
    "\n",
    "    ## Pull artists from genre page\n",
    "    r2 = requests.get(genrePage)\n",
    "    soup2 = BeautifulSoup(r2.text,\"html.parser\")\n",
    "    allArtistDivs = soup2.find_all(\"div\", \"genre scanme\")\n",
    "    for artist in allArtistDivs:\n",
    "        artistName = str.strip(artist.getText().encode('ascii','ignore'))\n",
    "        if not(artistName.isspace()):\n",
    "            genreList[genre].append(artistName) \n",
    "    genreCnt = genreCnt+1"
   ]
  },
  {
   "cell_type": "code",
   "execution_count": 4,
   "metadata": {
    "collapsed": false
   },
   "outputs": [],
   "source": [
    "with open('genreList.p', 'wb') as fp:\n",
    "    pickle.dump(genreList, fp)\n",
    "\n",
    "exit()"
   ]
  }
 ],
 "metadata": {
  "kernelspec": {
   "display_name": "Python 3.6.9 64-bit ('env': venv)",
   "language": "python",
   "name": "python36964bitenvvenvc587828bc3f044e9b6df9edb1c5a0044"
  },
  "language_info": {
   "codemirror_mode": {
    "name": "ipython",
    "version": 2
   },
   "file_extension": ".py",
   "mimetype": "text/x-python",
   "name": "python",
   "nbconvert_exporter": "python",
   "pygments_lexer": "ipython2",
   "version": "3.6.9-final"
  }
 },
 "nbformat": 4,
 "nbformat_minor": 0
}